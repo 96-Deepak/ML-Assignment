{
 "cells": [
  {
   "cell_type": "markdown",
   "metadata": {},
   "source": [
    "# 1. What does one mean by the term \"machine learning\"?"
   ]
  },
  {
   "cell_type": "markdown",
   "metadata": {},
   "source": [
    "machine learning is a branch of artificial intelligence (AI) and computer science\n",
    "which focus on the use of data and algorithms to imitate the way that humans learn gradually imporving its accuracy."
   ]
  },
  {
   "cell_type": "markdown",
   "metadata": {},
   "source": [
    "# 2.Can you think of 4 distinct types of issues where it shines?"
   ]
  },
  {
   "cell_type": "markdown",
   "metadata": {},
   "source": [
    "4 distinct type of issues.  overfitting data (using a model too complicated), underfitting the data(using a simple model),\n",
    "lacking in data and nonrepresentative data. "
   ]
  },
  {
   "cell_type": "markdown",
   "metadata": {},
   "source": [
    "# 3.What is a labeled training set, and how does it work?"
   ]
  },
  {
   "cell_type": "markdown",
   "metadata": {},
   "source": [
    "laleled training set is data that comes with a tag, like a name, a type, or number. \n",
    "\n",
    "you split up the data containing known respose variable values into two pieces. the training set is used to train \n",
    "the algorithm, and then you use the trained model on the test set to predict the respose variable values that are alredy known.\n"
   ]
  },
  {
   "cell_type": "markdown",
   "metadata": {},
   "source": [
    "# 4.What are the two most important tasks that are supervised?"
   ]
  },
  {
   "cell_type": "markdown",
   "metadata": {},
   "source": [
    "1. Regression:-  Regression algorithms are used if there is a relationship between input variable and output variable.\n",
    "    it is used for the prediction of continuous variables, such as weather forecasting, market trends,etc.\n",
    "\n",
    "2. Classification:- classification algorithm used when the output variable is categorical which means there are two classes\n",
    "    such as Yes-No, Male-Female, True-False etc"
   ]
  },
  {
   "cell_type": "markdown",
   "metadata": {},
   "source": [
    "# 5.Can you think of four examples of unsupervised tasks?"
   ]
  },
  {
   "cell_type": "markdown",
   "metadata": {},
   "source": [
    "Common unsupervised tasks include clustering, visualization,dimensionality reduction, and association rule learning."
   ]
  },
  {
   "cell_type": "markdown",
   "metadata": {},
   "source": [
    "# 6.State the machine learning model that would be best to make a robot walk through various unfamiliar terrains?"
   ]
  },
  {
   "cell_type": "markdown",
   "metadata": {},
   "source": [
    "Reinforcement Learning is likely to perform best if we want a ronot to learn to walk in various unknown terrains,\n",
    "since this is typically the type of problem that Reinforcement Learning tackles. It might be possible to express \n",
    "the problem as a supervised or semisupervised learning problem but it would be less natural. "
   ]
  },
  {
   "cell_type": "markdown",
   "metadata": {},
   "source": [
    "# 7.Which algorithm will you use to divide your customers into different groups?"
   ]
  },
  {
   "cell_type": "markdown",
   "metadata": {},
   "source": [
    "If you don't know the how to define the groups, then you can use a clustering algorithm to segment your customers into \n",
    "cluster of similar customers. However, if you know what group you would like to have, then you can feed many exmples\n",
    "of each group to a classification algorithm (supervised learning) and it will classify all your customers into\n",
    "these groups. "
   ]
  },
  {
   "cell_type": "markdown",
   "metadata": {},
   "source": [
    "# 8.Will you consider the problem of spam detection to be a supervised or unsupervised learning problem?"
   ]
  },
  {
   "cell_type": "markdown",
   "metadata": {},
   "source": [
    "Spam detection is a typical supervised learning problem the algorithm is fed many emails along with their labels\n",
    "(spam or spam)"
   ]
  },
  {
   "cell_type": "markdown",
   "metadata": {},
   "source": [
    "# 9.What is the concept of an online learning system?"
   ]
  },
  {
   "cell_type": "markdown",
   "metadata": {},
   "source": [
    "An online learning system can learn incrementally, as  opposed to a batch learning system. This makes it capable of\n",
    "adapting rapidly to both chaning data and automous system, and of training on vary large quantites of data. "
   ]
  },
  {
   "cell_type": "markdown",
   "metadata": {},
   "source": [
    "# 10. What is out-of-core learning, and how does it differ from core learning?"
   ]
  },
  {
   "cell_type": "markdown",
   "metadata": {},
   "source": [
    "Out-of-core algorithms can handle vast quantites of data that cannot fit in a computer'a main memory. An out-of-core\n",
    "learning algorithm chops the data into mini-batches and uses online learning techniques to learn these mini-batches. "
   ]
  },
  {
   "cell_type": "markdown",
   "metadata": {},
   "source": [
    "# 11. What kind of learning algorithm makes predictions using a similarity measure?"
   ]
  },
  {
   "cell_type": "markdown",
   "metadata": {},
   "source": [
    "An instance-based learning system learns the training data by heart; then when given a new instance, it uses a similarity\n",
    "measure to find the most similar learned instances and uses them to make predications. "
   ]
  },
  {
   "cell_type": "markdown",
   "metadata": {},
   "source": [
    "# 12. What's the difference between a model parameter and a hyperparameter in a learning algorithm?"
   ]
  },
  {
   "cell_type": "markdown",
   "metadata": {},
   "source": [
    "A model has one or more parameters that determine what it will predict given a new instance. A learning algorithm tries to\n",
    "find optimal values for these parameters such that the model generalizes well to new instances. A hyperparameter is a\n",
    "parameter of the learning algorithm itself, not of the model. "
   ]
  },
  {
   "cell_type": "markdown",
   "metadata": {},
   "source": [
    "# 13.What are the criteria that model-based learning algorithms look for? What is the most popular method they use to achieve success? What method do they use to make predictions?"
   ]
  },
  {
   "cell_type": "markdown",
   "metadata": {},
   "source": [
    "Model-based learning algorithm search for an optimal value for the model parameters such that the model will generalze well\n",
    "to new instances. we usually train such systems by minimizing a cost function that measures how bad the system is at making\n",
    "predications on the training data plus a penalty for model complexity if the model is regularuzed to make prediction, we\n",
    "feed the new instances features into the model prediction function using the parameter values found by the learning alogrithm."
   ]
  },
  {
   "cell_type": "markdown",
   "metadata": {},
   "source": [
    "# 14.Can you name four of the most important Machine Learning challenges?"
   ]
  },
  {
   "cell_type": "markdown",
   "metadata": {},
   "source": [
    "Some of the main challenges in Machine learning are the lack of data, poor data quality, nonrepresentative data,\n",
    "uniformative features, excessively simple models that underfit the training data, and excessively complex models that \n",
    "overfit the data."
   ]
  },
  {
   "cell_type": "markdown",
   "metadata": {},
   "source": [
    "# 15.What happens if the model performs well on the training data but fails to generalize the results to new situations? Can you think of three different options?"
   ]
  },
  {
   "cell_type": "markdown",
   "metadata": {},
   "source": [
    "if a model perforem great on the training data but generalizes poorly to new instances, the model is likely overfitting\n",
    "the training data (or we got extremely lucky on the training data). Possible solutions to overfitting are getting more data\n",
    "simplifying the model (selecting a simpler algorithm, reducing the number of parameters or feature used , or regularizing\n",
    "the model), or reducing the noise in the training data."
   ]
  },
  {
   "cell_type": "markdown",
   "metadata": {},
   "source": [
    "# 16.What exactly is a test set, and why would you need one?"
   ]
  },
  {
   "cell_type": "markdown",
   "metadata": {},
   "source": [
    "A test set is used to estimate the generalization error that a model will make on new instances, before the model is \n",
    "launched in producation. "
   ]
  },
  {
   "cell_type": "markdown",
   "metadata": {},
   "source": [
    "# 17.What is a validation set's purpose?"
   ]
  },
  {
   "cell_type": "markdown",
   "metadata": {},
   "source": [
    "A validation set is used to compare models. it makes it possible to select the best model and tune the hyperparameters. "
   ]
  },
  {
   "cell_type": "markdown",
   "metadata": {},
   "source": [
    "# 18.What precisely is the train-dev kit, when will you need it, how do you put it to use?"
   ]
  },
  {
   "cell_type": "markdown",
   "metadata": {},
   "source": [
    "The train-dev set is used when there is a risk of mismatch between the training data and the data used in the \n",
    "validation and test datasets. the train-dev set is part of the training set that's held out. the model is trained on the \n",
    "rest of the training set and evaluated in both the train-dev set and the validation set. if the model perform well on the \n",
    "training set and the train-dev set, but not on the on the valudation set, then there is probably a significant data \n",
    "mismatch between the training data and the validation pluse test data and you should try to improve the training\n",
    "data to make it look more like the validation test data. "
   ]
  },
  {
   "cell_type": "markdown",
   "metadata": {},
   "source": [
    "# 19.What could go wrong if you use the test set to tune hyperparameters?"
   ]
  },
  {
   "cell_type": "markdown",
   "metadata": {},
   "source": [
    "If you tune hyperparameters using the test set, you risk overfitting the test set, and the generalization error you measure\n",
    "will be optimistic ( you may launch a model that performs worse than you expect)."
   ]
  },
  {
   "cell_type": "code",
   "execution_count": null,
   "metadata": {},
   "outputs": [],
   "source": []
  }
 ],
 "metadata": {
  "kernelspec": {
   "display_name": "Python 3",
   "language": "python",
   "name": "python3"
  },
  "language_info": {
   "codemirror_mode": {
    "name": "ipython",
    "version": 3
   },
   "file_extension": ".py",
   "mimetype": "text/x-python",
   "name": "python",
   "nbconvert_exporter": "python",
   "pygments_lexer": "ipython3",
   "version": "3.7.4"
  }
 },
 "nbformat": 4,
 "nbformat_minor": 2
}
