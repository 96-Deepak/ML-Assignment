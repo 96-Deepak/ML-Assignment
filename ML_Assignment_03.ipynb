{
 "cells": [
  {
   "cell_type": "markdown",
   "metadata": {},
   "source": [
    "# 1. Explain the term machine learning, and how does it work? Explain two machine learning applications in the business world. What are some of the ethical concerns that machine learning applications could raise?"
   ]
  },
  {
   "cell_type": "markdown",
   "metadata": {},
   "source": [
    "Field of study that gives computers the capability to learn without being explicitly programmed. \n",
    "\n",
    "The three major building blocks of a machine learning system are the model the parameters and the learner.\n",
    "- Model is the system which makes predictions.\n",
    "- The parameters are the factors which are considered by the model to make predictions\n",
    "- The learner makes the adjustments in the parameters and the model to align the predictions with the actual results. \n",
    "\n",
    "Application Of ML in the business world:- \n",
    "- Image Recognition - Image recognition is one of the most common applications of machine learning. It is used to identify objects, person, places, digital images etc. The popular use case of image recognition and face detection is Automatic friend tagging suggestion. \n",
    "- Speech Recognition - while using google we get an option of \"Search by voice\" it comes under speech recognition and it's a popular application of machine learning. speech recognition is a process of converting voice instructions into text and it is also know as speech to text or computer speech recognition.\n",
    "\n",
    "Ethical Concern that ML application:-\n",
    "- Unemployment \n",
    "- Inequality \n",
    "- Humanity \n",
    "- Artificial Stupidity"
   ]
  },
  {
   "cell_type": "markdown",
   "metadata": {},
   "source": [
    "# 2. Describe the process of human learning:\n",
    "           i. Under the supervision of experts\n",
    "\n",
    "           ii. With the assistance of experts in an indirect manner\n",
    "\n",
    "            iii. Self-education\n"
   ]
  },
  {
   "cell_type": "markdown",
   "metadata": {},
   "source": [
    "Learning is the process of acquiring new undestanding, knowledge, behaviors, skills, values, attitudes, and preference. \n",
    "\n",
    "i) Human-guided machine learning is a type of supervised learning, which uses a set of human-labeled training data\n",
    "to develop a model. Human guided machine learning is a process whereby subject matter experts accelerate the learning process by teaching the technology in real-time. \n",
    "\n",
    "ii) with the help of assistance of experts in an indirect manner human can learing with good way.\n",
    "\n",
    "iii) Last one is self education is very great way to learning in form of human learning it takes time also face more problem but he/she will learning good thing's. "
   ]
  },
  {
   "cell_type": "markdown",
   "metadata": {},
   "source": [
    "# 3. Provide a few examples of various types of machine learning."
   ]
  },
  {
   "cell_type": "markdown",
   "metadata": {},
   "source": [
    "i) Supervised Learning\n",
    "\n",
    "ii) Unsupervised Learning\n",
    "\n",
    "iii) Reinforcement Learning"
   ]
  },
  {
   "cell_type": "markdown",
   "metadata": {},
   "source": [
    "# 4. Examine the various forms of machine learning."
   ]
  },
  {
   "cell_type": "markdown",
   "metadata": {},
   "source": [
    "i) Supervised Learning:- In supervised learning data is labeled with the help of labeled data machine can learn. \n",
    "    \n",
    "ii) Unsupervised Learning:- In unspervised learning data is unlabeled.\n",
    "\n",
    "iii) Reinforcement Learning:- Reinforcement learning is a machine learning training method based on rewarding desired\n",
    "    behaviors and/or punishing undesired ones. "
   ]
  },
  {
   "cell_type": "markdown",
   "metadata": {},
   "source": [
    "# 5. Can you explain what a well-posed learning problem is? Explain the main characteristics that must be present to identify a learning problem properly."
   ]
  },
  {
   "cell_type": "markdown",
   "metadata": {},
   "source": [
    "A computer program is said to learn from experience E in context to some task T and some performance measure P,\n",
    "if its performance on T, as was masured by P, upgrades with experience E. \n",
    "\n",
    "- Any problem can be segregated as well-posed learning problem if it has three traits\n",
    "\n",
    "Task\n",
    "\n",
    "Performance Measure\n",
    "\n",
    "Experience\n",
    "\n",
    "e.g\n",
    "1. To better filter emails as spam or not\n",
    "\n",
    "task - Classifying emails as spam or not\n",
    "\n",
    "Performance Measure - The fraction of emails accurately classified as spam or not spam.\n",
    "\n",
    "Experience - Observing you label emails as spam or not spam. "
   ]
  },
  {
   "cell_type": "markdown",
   "metadata": {},
   "source": [
    "# 6. Is machine learning capable of solving all problems? Give a detailed explanation of your answer."
   ]
  },
  {
   "cell_type": "markdown",
   "metadata": {},
   "source": [
    "Most of the problems are solved machine learning and some problem are trying to solve machine learning. and in some problem\n",
    "machine are facing some issue and also we are trying to solve this problem but one day it will possible to solve all problem\n",
    "with machine larning. "
   ]
  },
  {
   "cell_type": "markdown",
   "metadata": {},
   "source": [
    "# 7. What are the various methods and technologies for solving machine learning problems? Any two of them should be defined in detail."
   ]
  },
  {
   "cell_type": "markdown",
   "metadata": {},
   "source": [
    "ML uese two types of techniques: supervised learning, which trains a model on known input and output data so that it can predict future outputs and unsupervised learning which finds hidden pattern or intrinic structures in input data. \n",
    "\n",
    "- Supervised Learning - \n",
    "Supervised ML builds a model that makes predictions based on evidence in the presence of uncertainty. with the help of known data set we train our model.supervised machine learning uses classification and regression techniques to develop machine learning models. \n",
    "\n",
    "\n",
    "          \n",
    "- Unsupervised Learning - \n",
    "Unsupervised learning finds hiden pattern or intrinsic structure in data. it is used to drawi nferences from dataset consisting of input data without labeled respones. Clustering is the most common unsupervised learning techniques. "
   ]
  },
  {
   "cell_type": "markdown",
   "metadata": {},
   "source": [
    "# 8. Can you explain the various forms of supervised learning? Explain each one with an example application."
   ]
  },
  {
   "cell_type": "markdown",
   "metadata": {},
   "source": [
    "1) Supervised Learning - machine learn from the labeled data or known dataset. \n",
    "            e.g Home price prediction of a perticular area, sales prediction, spam classification, face recognition.\n",
    "\n",
    "2) Unsupervised Learning - Machine can learn form the unlabeled data and check the similarity of perticular object or data point\n",
    "            e.g Recommender System. \n",
    "\n",
    "3) Reinforcement Learning - reinforcement learning is very much behavior-driven. \n",
    "            e.g Video Game, Resource management. "
   ]
  },
  {
   "cell_type": "markdown",
   "metadata": {},
   "source": [
    "# 9. What is the difference between supervised and unsupervised learning? With a sample application in each region, explain the differences."
   ]
  },
  {
   "cell_type": "markdown",
   "metadata": {},
   "source": [
    "- Supervised Learning \n",
    "\n",
    "i) uses known and labeled data as input\n",
    "\n",
    "ii) very complex \n",
    "\n",
    "ii) uses off-line analysis\n",
    "\n",
    "iV) number of class are known\n",
    "\n",
    "v) Accurate and reliable result \n",
    "\n",
    "\n",
    "- Unsupervised Learning \n",
    "\n",
    "i) Uses unknown data as input\n",
    "\n",
    "ii) less computational complexity\n",
    "\n",
    "iii) uses real time analysis of data\n",
    "\n",
    "iv) number of class are not known\n",
    "\n",
    "v) Moderate Accurate and reliable results\n",
    "\n",
    "\n",
    "\n"
   ]
  },
  {
   "cell_type": "markdown",
   "metadata": {},
   "source": [
    "# 10. Describe the machine learning process in depth.\n",
    "# a. Make brief notes on any two of the following:\n",
    "\n",
    "# MATLAB is one of the most widely used programming languages.\n",
    "\n",
    "#        ii. Deep learning applications in healthcare\n",
    "\n",
    " #       iii. Study of the market basket\n",
    "\n",
    "  #       iv. Linear regression (simple)\n"
   ]
  },
  {
   "cell_type": "markdown",
   "metadata": {},
   "source": [
    "- Machine Learning Process\n",
    "\n",
    "ML process is the first step in ML process to take the data from multiple sources and followed by a fine-tuned process of data,\n",
    "this data would be the feed for ML algorithms based on the problem statement, like predictive, classification and other model \n",
    "which are available in the space of ML world.\n",
    "\n",
    "- Machine learning Stages\n",
    "\n",
    "i) collection of data\n",
    "\n",
    "ii) data wrangling \n",
    "\n",
    "iii) model building\n",
    "\n",
    "iv) model evaluation\n",
    "\n",
    "v) model deployment "
   ]
  },
  {
   "cell_type": "markdown",
   "metadata": {},
   "source": [
    "# 11. Make a comparison between:-\n",
    "\n",
    "#         1. Generalization and abstraction\n",
    "\n",
    "#          2. Learning that is guided and unsupervised\n",
    "\n",
    "#          3. Regression and classification\n"
   ]
  },
  {
   "cell_type": "markdown",
   "metadata": {},
   "source": [
    "- Generalization and abstraction \n",
    "\n",
    "while Abstraction reduces complexity by hiding irrelevant detail, generalization reduces complexity by replacing multiple \n",
    "entities which perform similar function with single construct. \n",
    "\n",
    "- Learning that is guided and unsupervised\n",
    "\n",
    "Supervised learning means to learn the machine with the help of known dataset and unsupervised means to learn unknown dataset \n",
    "\n",
    "- Regression and Classification\n",
    "\n",
    "Regression means to predict the continuous values like age, salary, price. and classification means predict/classify the discrete values such as male or female, True or False, Spam or Not Spam. "
   ]
  }
 ],
 "metadata": {
  "kernelspec": {
   "display_name": "Python 3",
   "language": "python",
   "name": "python3"
  },
  "language_info": {
   "codemirror_mode": {
    "name": "ipython",
    "version": 3
   },
   "file_extension": ".py",
   "mimetype": "text/x-python",
   "name": "python",
   "nbconvert_exporter": "python",
   "pygments_lexer": "ipython3",
   "version": "3.7.4"
  }
 },
 "nbformat": 4,
 "nbformat_minor": 2
}
