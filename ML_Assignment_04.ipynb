{
 "cells": [
  {
   "cell_type": "markdown",
   "metadata": {},
   "source": [
    "# 1. What are the key tasks involved in getting ready to work with machine learning modeling?"
   ]
  },
  {
   "cell_type": "markdown",
   "metadata": {},
   "source": [
    "i) Collect Data \n",
    "\n",
    "ii) Prepare the Data\n",
    "\n",
    "iii) Choose the Model \n",
    "\n",
    "iv) Train your machine learning model \n",
    "\n",
    "v) Evaluation\n",
    "\n",
    "vi) Parameter Tuning \n",
    "\n",
    "vii) Prediction or Inference "
   ]
  },
  {
   "cell_type": "markdown",
   "metadata": {},
   "source": [
    "# 2. What are the different forms of data used in machine learning? Give a specific example for each of them."
   ]
  },
  {
   "cell_type": "markdown",
   "metadata": {},
   "source": [
    "Different forms of data used in Machine learning :- \n",
    "\n",
    "    Numerical data - e.g salary, sales, price, temperature, height, weight, interest rates. \n",
    "    Categorical data - e.g hockey player's position, team, hometown.\n",
    "    time-series data - e.g finance, stock market\n",
    "    text - e.g coustmer review or feedback \n",
    "    "
   ]
  },
  {
   "cell_type": "markdown",
   "metadata": {},
   "source": [
    "# 3. Distinguish:\n",
    "\n",
    "#           1. Numeric vs. categorical attributes\n",
    "\n",
    "#            2. Feature selection vs. dimensionality reduction\n"
   ]
  },
  {
   "cell_type": "markdown",
   "metadata": {},
   "source": [
    "- Numeric \n",
    "\n",
    "A numerical attributes is a attributes where the measurement or number has a numerical meaning. for example total rainfall \n",
    "measured in inches, heart rate etc.\n",
    "\n",
    "- Categorical Attributes\n",
    "\n",
    "A categorical attributes is a category type. for example hair color, hometown etc.\n",
    "\n",
    "- Feature selection \n",
    "\n",
    "Feature selection is simply selecting and excluding given feature without changing them. \n",
    "\n",
    "- dimensionality reduction\n",
    "\n",
    "Dimensionality reduction transforms features into a lower dimension. "
   ]
  },
  {
   "cell_type": "markdown",
   "metadata": {},
   "source": [
    "# 4. Make quick notes on any two of the following:\n",
    "\n",
    "#            1. The histogram\n",
    "\n",
    "#             2. Use a scatter plot\n",
    "\n",
    "#              3.PCA (Personal Computer Aid)\n"
   ]
  },
  {
   "cell_type": "markdown",
   "metadata": {},
   "source": [
    "- The Histogram \n",
    "\n",
    "A histogram is a graphical representation that orgnizes a group of data points into user-specified ranges. \n",
    "\n",
    "It represents the distribution of a continuous variable over a given interval or period of time.\n",
    "\n",
    "- Use A Scatter Plot\n",
    "\n",
    "Scatter plot shows how much one variable is affected by another or the relationship between them with the help of dots in two dimensions.\n"
   ]
  },
  {
   "cell_type": "markdown",
   "metadata": {},
   "source": [
    "# 5. Why is it necessary to investigate data? Is there a discrepancy in how qualitative and quantitative data are explored?"
   ]
  },
  {
   "cell_type": "markdown",
   "metadata": {},
   "source": [
    "For the taking insights of data or to known the information of data that's we required to investigate the data.\n",
    "\n",
    "- quantitative data \n",
    "\n",
    "quantitative data refers to any information that can be quantified - that is numbers. If it can be counted or mesured, and given a numerical value, it's quantitative in nature. think of it as a measuring stick. \n",
    "Quantitative variable can tell you \"how many\", \"how much\", or \"how often\". \n",
    "\n",
    "- qulitative \n",
    "\n",
    "Qulitative data analysis describe infromation and cannot be measured or counted. It refers to the words or labels used to describe certain charateristics or traits. \n"
   ]
  },
  {
   "cell_type": "markdown",
   "metadata": {},
   "source": [
    "# 6. What are the various histogram shapes? What exactly are ‘bins'?"
   ]
  },
  {
   "cell_type": "markdown",
   "metadata": {},
   "source": [
    "- Shapes of Histogram \n",
    "\n",
    "i) Normal Distribution\n",
    "ii) Skewed Distribution\n",
    "iii) Bimodel Distribution\n",
    "iV) Multimodel Distribution\n",
    "v) Edge Peak Distribution\n",
    "vi) Comb Distribution\n",
    "\n",
    "- What exactly are bins \n",
    "\n",
    "A histogram displays numerical data by grouping data into \"bins \" of equal width. each bin is plotted as a bar whose.\n",
    "height corresponds to how many data points are in that bin. Bins are also sometimes called \"intervals \", \"classes \" or \"Buckets\"."
   ]
  },
  {
   "cell_type": "markdown",
   "metadata": {},
   "source": [
    "# 7. How do we deal with data outliers?"
   ]
  },
  {
   "cell_type": "markdown",
   "metadata": {},
   "source": [
    "An Outlier is an observation in a given dataset that lies far from the rest of the observations. that mean an outlier is vastly larger or smaller than the remaining values in the set.\n",
    "\n",
    "Detecting outlier with the help of some methods like Boxplot, zscore, Inter Quantile Range(IQR).\n",
    "\n",
    "- Handling outlier\n",
    "\n",
    "Some are handling outlier:- \n",
    "\n",
    "i) Trimming / removing the outlier\n",
    "\n",
    "ii) Quantile based flooring and capping\n",
    "\n",
    "iii) Mean/Median imputation "
   ]
  },
  {
   "cell_type": "markdown",
   "metadata": {},
   "source": [
    "# 8. What are the various central inclination measures? Why does mean vary too much from median in certain data sets?"
   ]
  },
  {
   "cell_type": "markdown",
   "metadata": {},
   "source": [
    "There are three main measures of central tendency: the mode, the median and the mean. each of these measures describe a different indication of the typical or central value in the distribution. "
   ]
  },
  {
   "cell_type": "markdown",
   "metadata": {},
   "source": [
    "# 9. Describe how a scatter plot can be used to investigate bivariate relationships. Is it possible to find outliers using a scatter plot?"
   ]
  },
  {
   "cell_type": "markdown",
   "metadata": {},
   "source": [
    "- Scatter plot\n",
    "\n",
    "A scatter plot is a type of data display that shows the relationship between two numerical variables. each member of the dataset gets plotted as a point whose (x,y) coordinates relates to its values for the two variables.\n",
    "\n",
    "yes with the help of scatter plot we can easily see the outlier in data set but it's not good way to see outlier in data set. "
   ]
  },
  {
   "cell_type": "markdown",
   "metadata": {},
   "source": [
    "# 10. Describe how cross-tabs can be used to figure out how two variables are related."
   ]
  },
  {
   "cell_type": "markdown",
   "metadata": {},
   "source": [
    "Cross-tabulation, also known as cross tab or contingency table, is a statical tool used for categorical data. categorical data involves values that are mutually exclusive to each other. data is always collected in numbers, but number have no value unless they mean something 4,7,9 are merely numerical unless specified for example 4 apple, 7 banana, 9 kiwis.\n",
    "A cross-tab report shows the connection between two or more questions asked in the study. "
   ]
  },
  {
   "cell_type": "code",
   "execution_count": null,
   "metadata": {},
   "outputs": [],
   "source": []
  }
 ],
 "metadata": {
  "kernelspec": {
   "display_name": "Python 3",
   "language": "python",
   "name": "python3"
  },
  "language_info": {
   "codemirror_mode": {
    "name": "ipython",
    "version": 3
   },
   "file_extension": ".py",
   "mimetype": "text/x-python",
   "name": "python",
   "nbconvert_exporter": "python",
   "pygments_lexer": "ipython3",
   "version": "3.7.4"
  }
 },
 "nbformat": 4,
 "nbformat_minor": 2
}
