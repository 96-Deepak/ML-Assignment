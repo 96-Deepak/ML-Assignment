{
 "cells": [
  {
   "cell_type": "markdown",
   "metadata": {},
   "source": [
    "# 1. What is the concept of human learning? Please give two examples."
   ]
  },
  {
   "cell_type": "markdown",
   "metadata": {},
   "source": [
    "The importance of learning is that it helps the individual to acquire the necessary skills through learning and \n",
    "knowledge so that he can achive his set goals. an important fact about learning is that it is a means to improve \n",
    "knowledge and gain skills that will help in reaching goals. "
   ]
  },
  {
   "cell_type": "markdown",
   "metadata": {},
   "source": [
    "# 2. What different forms of human learning are there? Are there any machine learning equivalents?"
   ]
  },
  {
   "cell_type": "markdown",
   "metadata": {},
   "source": [
    "1) Artifical Intelligence\n",
    "2) Learning Theories \n",
    "3) Machine Learning\n",
    "4) Reinforcement Learning\n",
    "5) Supervised Learning\n",
    "6) Unsupervised Learning\n"
   ]
  },
  {
   "cell_type": "markdown",
   "metadata": {},
   "source": [
    "# 3. What is machine learning, and how does it work? What are the key responsibilities of machine learning?"
   ]
  },
  {
   "cell_type": "markdown",
   "metadata": {},
   "source": [
    "machine learning means, machine can learning it self or we can say that machine can learn form data is call ML.\n",
    "\n",
    "1) Preprocessing of Data\n",
    "2) Feature Engineering\n",
    "3) Algorithm Selection\n",
    "4) Training and tuning\n",
    "5) Ensembling \n",
    "6) Head model Competitions \n",
    "7) Human friendly Insights\n",
    "8) Easy Deployment\n",
    "9) Model monitoring and Management"
   ]
  },
  {
   "cell_type": "markdown",
   "metadata": {},
   "source": [
    "# 4. Define the terms \"penalty\" and \"reward\" in the context of reinforcement learning."
   ]
  },
  {
   "cell_type": "markdown",
   "metadata": {},
   "source": [
    "The reinforcement learning algorithm which may also be referred to as and agent learn by interacting with its environment.\n",
    "the agents recive rewards by performing correctly and penalties for performing incorrectly. The agent learns without \n",
    "intervention from a human by maximizing its reward and minimizing its penalty. "
   ]
  },
  {
   "cell_type": "markdown",
   "metadata": {},
   "source": [
    "# 5. Explain the term \"learning as a search\"?"
   ]
  },
  {
   "cell_type": "markdown",
   "metadata": {},
   "source": [
    "concept learning can be viewed as the task of searching through a large scale of hypothesis implicitly defined by \n",
    "hypothesis representation. \n",
    "The goal of the concept learning search is to find the hypothesis that best fits the training examples. "
   ]
  },
  {
   "cell_type": "markdown",
   "metadata": {},
   "source": [
    "# 6. What are the various goals of machine learning? What is the relationship between these and human learning?"
   ]
  },
  {
   "cell_type": "markdown",
   "metadata": {},
   "source": [
    "Machine learning is a subset of AI which allows a machine to automatically learn from past data without programming\n",
    "explicitly. The goal of machine learning is to make a smart computer system like humans to solve complex problems. \n",
    "\n",
    "#Relationship between these and human learning\n",
    "    \n",
    "  Humans acquire knowledge through experience either directly or shared by others. machine acquire knowledge through \n",
    " experience shared in the form of past data. we have the terms knowledge, skill, and memory being used to define intelligence.\n",
    "\n"
   ]
  },
  {
   "cell_type": "markdown",
   "metadata": {},
   "source": [
    "# 7. Illustrate the various elements of machine learning using a real-life illustration."
   ]
  },
  {
   "cell_type": "markdown",
   "metadata": {},
   "source": [
    "1) Image Recognition:- \n",
    "    Image recognition is one of the most common uses of machine learning. There are many situation where you can \n",
    "    classify the object as a digital image.\n",
    "\n",
    "2) Speech Recognition:- \n",
    "    Speech recognition is the translation of spoken words into the text. it is also known as computer speech recognition.\n",
    "    \n",
    "3) Medical Diagnosis :- \n",
    "    Machine learning can be used in the techniques and tools that can help in the diagnosis of diseases. "
   ]
  },
  {
   "cell_type": "markdown",
   "metadata": {},
   "source": [
    "# 8. Provide an example of the abstraction method."
   ]
  },
  {
   "cell_type": "markdown",
   "metadata": {},
   "source": [
    "An abstract method is a method that is declared, but contains no implementation. \n",
    "\n"
   ]
  },
  {
   "cell_type": "markdown",
   "metadata": {},
   "source": [
    "# 9. What is the concept of generalization? What function does it play in the machine learning process?"
   ]
  },
  {
   "cell_type": "markdown",
   "metadata": {},
   "source": [
    "In Machine learning generalization is a definition to demonstrate  how well is a  trained model to classify or \n",
    "forcast unseen data."
   ]
  },
  {
   "cell_type": "markdown",
   "metadata": {},
   "source": [
    "# 10. What is classification, exactly? What are the main distinctions between classification and regression?"
   ]
  },
  {
   "cell_type": "markdown",
   "metadata": {},
   "source": [
    "classification means of predicating the labeled data or simply we can say that to claasify the data in to specific class. \n",
    "\n",
    "distincations between classification and regression ?\n",
    "\n",
    "classification means to identify labels e.g Male or Female, Yes or No, True or False. and regression means to predict the continuos values e.g salary, price, age."
   ]
  },
  {
   "cell_type": "markdown",
   "metadata": {},
   "source": [
    "# 11. What is regression, and how does it work? Give an example of a real-world problem that was solved using regression"
   ]
  },
  {
   "cell_type": "markdown",
   "metadata": {},
   "source": [
    "Regression is one of the easist and most popular Machine Linear algorithm. linear regression makes predication for \n",
    "continous/real value or numrical value such as salary, price, age. \n",
    "\n",
    "woking of linear regression?\n",
    "\n",
    "formula for linear regression = mx + c  (this is equation is used for calculation)\n",
    "feet the all data in this equation and create one line through the data points.\n",
    "\n",
    "real-world ecample of regression \n",
    "1) House price predication- to predict the house price using the some data like, Area of house, rooms,  \n",
    "\n"
   ]
  },
  {
   "cell_type": "markdown",
   "metadata": {},
   "source": [
    "# 12. Describe the clustering mechanism in detail."
   ]
  },
  {
   "cell_type": "markdown",
   "metadata": {},
   "source": [
    "clustering is task of dividing the population or data point into a number of group such that data point in the same groups\n",
    "are more similar. in simple words the aim is to segregate groups with similar traits and assign them into clusters. "
   ]
  },
  {
   "cell_type": "markdown",
   "metadata": {},
   "source": [
    "# 13. Make brief observations on two of the following topics:\n",
    "# i. Machine learning algorithms are used\n",
    "# ii. Studying under supervision\n",
    "# iii. Studying without supervision\n",
    "# iv. Reinforcement learning is a form of learning based on positive reinforcement.\n"
   ]
  },
  {
   "cell_type": "markdown",
   "metadata": {},
   "source": [
    "i) Machine learning algorithms are used for predicting probability \n",
    "iv) Reinforcement learning is a form of learning based on positive reinforcement."
   ]
  },
  {
   "cell_type": "code",
   "execution_count": null,
   "metadata": {},
   "outputs": [],
   "source": []
  }
 ],
 "metadata": {
  "kernelspec": {
   "display_name": "Python 3",
   "language": "python",
   "name": "python3"
  },
  "language_info": {
   "codemirror_mode": {
    "name": "ipython",
    "version": 3
   },
   "file_extension": ".py",
   "mimetype": "text/x-python",
   "name": "python",
   "nbconvert_exporter": "python",
   "pygments_lexer": "ipython3",
   "version": "3.7.4"
  }
 },
 "nbformat": 4,
 "nbformat_minor": 2
}
