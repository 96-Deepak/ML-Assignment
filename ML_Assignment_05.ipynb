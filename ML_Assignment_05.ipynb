{
 "cells": [
  {
   "cell_type": "markdown",
   "metadata": {},
   "source": [
    "# 1. What are the key tasks that machine learning entails? What does data pre-processing imply?"
   ]
  },
  {
   "cell_type": "markdown",
   "metadata": {},
   "source": [
    "Machine learning task are to predicting or inference being made, based on the problem or question that being asked. \n",
    "\n",
    "- Data Pre-processing\n",
    "\n",
    "Data Pre-processing means to to clean a raw data means to check any missing values and any different values(baise) and impute with mean median and mode. "
   ]
  },
  {
   "cell_type": "markdown",
   "metadata": {},
   "source": [
    "# 2. Describe quantitative and qualitative data in depth. Make a distinction between the two."
   ]
  },
  {
   "cell_type": "markdown",
   "metadata": {},
   "source": [
    "- quantitative data\n",
    "\n",
    "quantitative data refers to any information that can be quantified - that is numbers. If it can be counted or mesured, and given a numerical value, it's quantitative in nature. think of it as a measuring stick. Quantitative variable can tell you \"how many\", \"how much\", or \"how often\".\n",
    "\n",
    "- qulitative\n",
    "\n",
    "Qulitative data analysis describe infromation and cannot be measured or counted. It refers to the words or labels used to describe certain charateristics or traits"
   ]
  },
  {
   "cell_type": "markdown",
   "metadata": {},
   "source": [
    "# 3. Create a basic data collection that includes some sample records. Have at least one attribute from each of the machine learning data types."
   ]
  },
  {
   "cell_type": "markdown",
   "metadata": {},
   "source": [
    "- Numerical Data\n",
    "\n",
    "e.g height, weight, salary, temperature, interest rates.\n",
    "\n",
    "- Categorical Data\n",
    "\n",
    "e.g gender, city, person name\n",
    "\n",
    "- Time Series Data\n",
    "\n",
    "e.g Stock market \n"
   ]
  },
  {
   "cell_type": "markdown",
   "metadata": {},
   "source": [
    "# 4. What are the various causes of machine learning data issues? What are the ramifications?"
   ]
  },
  {
   "cell_type": "markdown",
   "metadata": {},
   "source": [
    "- ML Data Issues\n",
    "\n",
    "i) Poor Quality of Data \n",
    "    \n",
    "    ML Professionals face is the absence of good quality data. \n",
    "    \n",
    "ii) Underfitting of Data\n",
    "    \n",
    "    This process occurs when data is unable to establish an accurate relationship between input and output variable.\n",
    "    \n",
    "iii) Overfitting of Data\n",
    "    \n",
    "    Overfitting refers to a machine learning model trained with a massive amount of data that negatively affect its performance \n",
    "    \n",
    "iV) Machine learning is a complex process \n",
    "\n",
    "    The machine learning industry is young and is continuously changing. Rapid hit and trial experiments are being carried on. The process is transforming and hence there are high chances of error which makes the learning complex. \n",
    "    \n",
    "v) Lack of training Data\n",
    "    \n",
    "    The most important task in machine learning is to train the model with help of Data to achieve accurate output. when we use less data to train the model our model will go to underfitting process and if we give too much data to our model then model goes to overfitting. \n",
    "    \n",
    "vi) Slow implementation \n",
    "    \n",
    "    This is one of the common issue faced by machine learning professionals. The machine learning models are highly efficient in providing accurate results, but it takes a tremendous amount of time. Slow programs, data overload, and excessive requirements usually take a lot of time to provide accurate result."
   ]
  },
  {
   "cell_type": "markdown",
   "metadata": {},
   "source": [
    "# 5. Demonstrate various approaches to categorical data exploration with appropriate examples."
   ]
  },
  {
   "cell_type": "markdown",
   "metadata": {},
   "source": [
    "Categorical data is a type of data that is used to group information with similar characteristics while numerical data is a type of data that expresses information in the form of number \n",
    "\n",
    "- Why do we need encoding \n",
    "\n",
    "i) Most machine learning algorithms cannot handle categorical variable unless we convert them to numerical values.\n",
    "ii) Many algorithm performaces even vary based upon how the categorical variable are encoded.\n",
    "\n",
    "- Categorical variable can be divided into two categories\n",
    "\n",
    "i) Nominal- no particular order\n",
    "ii) Ordinal- there is some order between values.\n",
    "\n",
    "e.g Gender."
   ]
  },
  {
   "cell_type": "markdown",
   "metadata": {},
   "source": [
    "# 6. How would the learning activity be affected if certain variables have missing values? Having said that, what can be done about it?"
   ]
  },
  {
   "cell_type": "markdown",
   "metadata": {},
   "source": [
    "if our data having missing values and directly, we given this data to model then our model not predict accurate or perform the good result. this is not a correct method to provide data to our model. \n",
    "    first we need to preprocess the data, like check the missing data and fill missing value with the help of mean, median, mode or if we get 5 % or less than that missing value we will remove this data form our data. after cleaing we can give data to model and model will perform well. "
   ]
  },
  {
   "cell_type": "markdown",
   "metadata": {},
   "source": [
    "# 7. Describe the various methods for dealing with missing data values in depth."
   ]
  },
  {
   "cell_type": "markdown",
   "metadata": {},
   "source": [
    "i) Deleteing Rows with missing values \n",
    "\n",
    "ii) Impute missing values for continuous variable\n",
    "\n",
    "iii) Impute missing values for categorical variable\n",
    "\n",
    "iV) Replacing with mean, median, mode.\n",
    "\n",
    "v) Using algorithm which support missing values. "
   ]
  },
  {
   "cell_type": "markdown",
   "metadata": {},
   "source": [
    "# 8. What are the various data pre-processing techniques? Explain dimensionality reduction and function selection in a few words."
   ]
  },
  {
   "cell_type": "markdown",
   "metadata": {},
   "source": [
    "- Data Cleaning \n",
    "\n",
    "Real-world data tend to be incomplete, noisy, and inconsistent. Data cleaning routines attempt to fill in missing values, smooth out noise while indentifying outliers and correct inconsistencies in the data.\n",
    "    \n",
    "\n",
    "- Data Integration\n",
    "\n",
    "Data Integration is involved in data analysis task which combines data from multiple source into a coherent data store, as in data warehousing. These sources may include multiple database data cubes, or flat files. this to be considered in data integration is schema integreation. it is tricky. \n",
    "    \n",
    "\n",
    "- Data Transformation\n",
    "\n",
    "i) Normalisation - where the attribute data are scaled to fall within a small specified range such as -1 to 1 or 0 or 1.\n",
    "ii) Smoothing works to remove the noise from the data. such techniques include binning, clustering, and regression.\n",
    "iii) Aggregation\n",
    "iv) Generalisation\n",
    "\n",
    "- Data Reduction\n",
    "\n",
    "Complex data analysis and mining on huge amounts of data may take a very long time, making such analysis impractical or infeasible. Data reducation techniques are helpful in analysing the reduced representation of the data set without compromising the integrity of the original data and yet producing the qulitative knowledge. "
   ]
  },
  {
   "cell_type": "markdown",
   "metadata": {},
   "source": [
    "# 9.\n",
    "# i. What is the IQR? What criteria are used to assess it?\n",
    "# ii. Describe the various components of a box plot in detail? When will the lower whisker    surpass the upper whisker in length? How can box plots be used to identify outliers?\n"
   ]
  },
  {
   "cell_type": "markdown",
   "metadata": {},
   "source": [
    "i) What is the IQR - means Inter-Quartile Range \n",
    "\n",
    "ii) Criteria - The interquartile range is calculated in much the same way as the range. All you do to find it is subtract the first quartile from the third. \n",
    "IQR = Q3- Q1 \n",
    "The interquartile range show how the data is spread about the median.\n",
    "\n",
    "ii) Components of box plot \n",
    "     \n",
    "     The main components of boxplot: median, quartiles, whiskers, fences and outliers. \n",
    "     A plot with long whiskers represents a greater range for the overall sample than simply a longer box itself does. \n",
    "     Test scores between schools or classrooms. Data from before and after a process changes. "
   ]
  },
  {
   "cell_type": "markdown",
   "metadata": {},
   "source": [
    "# 10. Make brief notes on any two of the following:\n",
    "\n",
    "#              1. Data collected at regular intervals\n",
    "\n",
    "#               2. The gap between the quartiles\n",
    "\n",
    "#               3. Use a cross-tab\n"
   ]
  },
  {
   "cell_type": "markdown",
   "metadata": {},
   "source": [
    "i) While time series data is data collected over time there are different types of data that describe how and when that time data was recorded. Interval data is measured along a numerical scale that has equal distance are called interval.\n",
    "\n",
    "ii) 2nd quartile(Q2) The median 50% of the data are less than or equal to this value\n",
    "  \n",
    "  3rd quartile(Q3) 75% of the data are less than or equal to this value.\n",
    "  \n",
    "  Interquartile range The distance between the 1st and 3rd quartile (Q3-Q1) it spans the middle 50% of the data. "
   ]
  },
  {
   "cell_type": "code",
   "execution_count": null,
   "metadata": {},
   "outputs": [],
   "source": []
  }
 ],
 "metadata": {
  "kernelspec": {
   "display_name": "Python 3",
   "language": "python",
   "name": "python3"
  },
  "language_info": {
   "codemirror_mode": {
    "name": "ipython",
    "version": 3
   },
   "file_extension": ".py",
   "mimetype": "text/x-python",
   "name": "python",
   "nbconvert_exporter": "python",
   "pygments_lexer": "ipython3",
   "version": "3.7.4"
  }
 },
 "nbformat": 4,
 "nbformat_minor": 2
}
