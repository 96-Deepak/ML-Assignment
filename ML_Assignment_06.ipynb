{
 "cells": [
  {
   "cell_type": "markdown",
   "metadata": {},
   "source": [
    "# 1. In the sense of machine learning, what is a model? What is the best way to train a model?"
   ]
  },
  {
   "cell_type": "markdown",
   "metadata": {},
   "source": [
    "A machine learning model is a file that has been trained to recognize certain type of pattern. \n",
    "\n",
    "Best Way to train ML Model - \n",
    "\n",
    "1) Undestand the bussiness problem \n",
    "\n",
    "2) Undestand the identify data\n",
    "\n",
    "3) Collect and prepare data\n",
    "\n",
    "4) Determine the model's features and train it \n",
    "\n",
    "5) Evaluate the model's performance \n",
    "\n",
    "6) Put the model in operation and make sure it work well\n",
    "\n",
    "7) Iterate and adjust the model "
   ]
  },
  {
   "cell_type": "markdown",
   "metadata": {},
   "source": [
    "# 2. In the sense of machine learning, explain the \"No Free Lunch\" theorem."
   ]
  },
  {
   "cell_type": "markdown",
   "metadata": {},
   "source": [
    "The No Free Lunch is often thrown around in the field of optimization and machine learning, often with little undestanding \n",
    "of what it means or implies. The theorem states that all optimization algorithms perform equally well when their performance is averaged across all possible problem."
   ]
  },
  {
   "cell_type": "markdown",
   "metadata": {},
   "source": [
    "# 3. Describe the K-fold cross-validation mechanism in detail."
   ]
  },
  {
   "cell_type": "markdown",
   "metadata": {},
   "source": [
    "cross-validation is a resampling procedure used to evaluate machine learning models on a limited data sample. The procedure has a single parameter called k that refers to the number of groups that a given data sample is to be split into. as such, the procedure is often called k-fold cross-validation. when a specific value for k is chose, it may be used in place of k in the reference to the model, such as k=10 becoming 10-fold cross-validation. \n",
    "\n"
   ]
  },
  {
   "cell_type": "markdown",
   "metadata": {},
   "source": [
    "# 4. Describe the bootstrap sampling method. What is the aim of it?"
   ]
  },
  {
   "cell_type": "markdown",
   "metadata": {},
   "source": [
    "Bootstrapping is a statistical procedure that resamples a single dataset to create many simulated samples. \n",
    "\n",
    "Aim:- This process allows you to calculate standard errors, construct confidence intervals, and perform hypothesis testing for numerous types of sample statistics. "
   ]
  },
  {
   "cell_type": "markdown",
   "metadata": {},
   "source": [
    "# 5. What is the significance of calculating the Kappa value for a classification model? Demonstrate how to measure the Kappa value of a classification model using a sample collection of results."
   ]
  },
  {
   "cell_type": "markdown",
   "metadata": {},
   "source": [
    "It basically tells you how much better your classifier is performing over the performance of a classifier that simply guesses, at classifier that simply guesses at random according to the frequency of each class. \n",
    "\n",
    "to calculate observed accuracy we simply add the number of instances that the machine learning classifer agreed with the ground truth label and divide by the total number of instances. \n"
   ]
  },
  {
   "cell_type": "markdown",
   "metadata": {},
   "source": [
    "# 6. Describe the model ensemble method. In machine learning, what part does it play?"
   ]
  },
  {
   "cell_type": "markdown",
   "metadata": {},
   "source": [
    "Ensemble method is a machine learning model that combines the predication from two or more models. "
   ]
  },
  {
   "cell_type": "markdown",
   "metadata": {},
   "source": [
    "# 7. What is a descriptive model's main purpose? Give examples of real-world problems that descriptive models were used to solve."
   ]
  },
  {
   "cell_type": "markdown",
   "metadata": {},
   "source": [
    "A descriptive model will exploit the past data that are stored in database and provide you with the accurate report.\n",
    "\n",
    "for example. an organization may study how people with different income levels react to the launch of a new Apple Phone. "
   ]
  },
  {
   "cell_type": "markdown",
   "metadata": {},
   "source": [
    "# 8. Describe how to evaluate a linear regression model."
   ]
  },
  {
   "cell_type": "markdown",
   "metadata": {},
   "source": [
    "Evaluation of linear regression model depend on the ways of calculating the difference between the actual value and predicated value. There are some method like R Square, Sum Squared Error, Mean Squared Error(MSE), Root Mean Squared Error,"
   ]
  },
  {
   "cell_type": "markdown",
   "metadata": {},
   "source": [
    "# 9. Distinguish :\n",
    "\n",
    "1. Descriptive vs. predictive models\n",
    "\n",
    "2. Underfitting vs. overfitting the model\n",
    "\n",
    "3. Bootstrapping vs. cross-validation\n"
   ]
  },
  {
   "cell_type": "markdown",
   "metadata": {},
   "source": [
    "1 Descriptive vs. predictive models \n",
    "- Descriptive Model - \n",
    "    - It determines the what happened in past by analyzing stored data.\n",
    "    - It provide accurate data.\n",
    "    - Standard reporting, query/drill down and ad-hoc reporting.\n",
    "    - It Required data aggregation and data mining.\n",
    "    - Reactive Approach\n",
    "    \n",
    "- Predictive models - \n",
    "    - It determines the what happen in feature with the help of past data analysis. \n",
    "    - It produces results does not ensure accuracy. \n",
    "    - Predictive modelling, forecasting, simulation and alerts.\n",
    "    - It required statstics and forecasting method. \n",
    "    - Proactive Approach.\n",
    "    \n",
    "2 Underfitting vs. overfitting the model\n",
    "- Underfitting model\n",
    "    - Underfitting means when we train the model with small dataset and it will work in testing phase it fail in producation. \n",
    "    \n",
    "- Overfitting \n",
    "    - Overfitting means we train model with big data that time our model will be going overfitting phase. \n",
    "\n",
    "3 Bootstrapping vs. cross-validation\n",
    "- Bootstrapping method is uses the original dataset to create multiple datasets after resampling with replacement. \n",
    "- Cross validation splits the available dataset to create multiple datasets. "
   ]
  },
  {
   "cell_type": "markdown",
   "metadata": {},
   "source": [
    "# 10. Make quick notes on:\n",
    "\n",
    "            1. LOOCV.\n",
    "\n",
    "            2. F-measurement\n",
    "\n",
    "            3. The width of the silhouette\n"
   ]
  },
  {
   "cell_type": "markdown",
   "metadata": {},
   "source": [
    "1. LOOCV \n",
    "    - The Leave-One-Out-Cross-Validation or LOOCV, procedure is used to estimate the performance of machine learning algorithm when they are used to make predications on data not used to train the model. \n",
    "    \n",
    "2. F-measurement \n",
    "    - The f-measure of the system is defined as the weighted harmonic mean of its precision and recall. \n",
    "    \n",
    "3. The width of the silhouette\n",
    "    - The silhouette value is a measure of how similar an object is to its own cluster compared to other clusters. "
   ]
  },
  {
   "cell_type": "code",
   "execution_count": null,
   "metadata": {},
   "outputs": [],
   "source": []
  }
 ],
 "metadata": {
  "kernelspec": {
   "display_name": "Python 3",
   "language": "python",
   "name": "python3"
  },
  "language_info": {
   "codemirror_mode": {
    "name": "ipython",
    "version": 3
   },
   "file_extension": ".py",
   "mimetype": "text/x-python",
   "name": "python",
   "nbconvert_exporter": "python",
   "pygments_lexer": "ipython3",
   "version": "3.7.4"
  }
 },
 "nbformat": 4,
 "nbformat_minor": 2
}
